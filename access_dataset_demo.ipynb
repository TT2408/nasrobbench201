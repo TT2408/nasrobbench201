{
 "cells": [
  {
   "cell_type": "code",
   "execution_count": 6,
   "metadata": {},
   "outputs": [
    {
     "name": "stdout",
     "output_type": "stream",
     "text": [
      "0.6729999780654907\n",
      "0.6680999994277954\n"
     ]
    }
   ],
   "source": [
    "from nasrobbench201 import NasRobBench201\n",
    "dataset = NasRobBench201(metapath= 'meta.json',\n",
    "                         datasetpath='NAS-RobBench-201_all.json')\n",
    "\n",
    "# FGSM accuracy\n",
    "acc = dataset.get_result('cifar10',architecture_id='1000',metric='val_fgsm_3.0_acc')\n",
    "print(acc)\n",
    "#0.6729999780654907\n",
    "\n",
    "# PGD accuracy\n",
    "acc = dataset.get_result('cifar10',architecture_id='1000',metric='val_pgd_3.0_acc')\n",
    "print(acc)\n",
    "#0.6680999994277954"
   ]
  }
 ],
 "metadata": {
  "kernelspec": {
   "display_name": "rob",
   "language": "python",
   "name": "python3"
  },
  "language_info": {
   "codemirror_mode": {
    "name": "ipython",
    "version": 3
   },
   "file_extension": ".py",
   "mimetype": "text/x-python",
   "name": "python",
   "nbconvert_exporter": "python",
   "pygments_lexer": "ipython3",
   "version": "3.9.13"
  }
 },
 "nbformat": 4,
 "nbformat_minor": 2
}
